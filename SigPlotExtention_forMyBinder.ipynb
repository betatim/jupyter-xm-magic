{
 "cells": [
  {
   "cell_type": "code",
   "execution_count": 1,
   "metadata": {},
   "outputs": [
    {
     "data": {
      "application/javascript": [
       "utils.load_extensions('sigplotjs/widget_sigplot');"
      ],
      "text/plain": [
       "<IPython.core.display.Javascript object>"
      ]
     },
     "metadata": {},
     "output_type": "display_data"
    }
   ],
   "source": [
    "%load_ext xm_magic\n",
    "from IPython.display import Image\n",
    "from IPython.display import Javascript\n",
    "import numpy as np"
   ]
  },
  {
   "cell_type": "code",
   "execution_count": 2,
   "metadata": {},
   "outputs": [
    {
     "data": {
      "application/vnd.jupyter.widget-view+json": {
       "model_id": "e9cfb469bb7540ea9faeb97f5e59496f",
       "version_major": 2,
       "version_minor": 0
      },
      "text/plain": [
       "SigPlot()"
      ]
     },
     "metadata": {},
     "output_type": "display_data"
    }
   ],
   "source": [
    "import numpy as np\n",
    "plot= SigPlot()\n",
    "plot.overlay_array(np.sin(np.arange(0, 20, 0.01)))\n",
    "plot.overlay_array(np.cos(np.arange(0, 20, 0.01)))\n",
    "plot.plot()"
   ]
  },
  {
   "cell_type": "code",
   "execution_count": 3,
   "metadata": {},
   "outputs": [
    {
     "data": {
      "application/vnd.jupyter.widget-view+json": {
       "model_id": "3e6185b6fb734d6d805cc099bae3a600",
       "version_major": 2,
       "version_minor": 0
      },
      "text/plain": [
       "SigPlot()"
      ]
     },
     "metadata": {},
     "output_type": "display_data"
    }
   ],
   "source": [
    "plot= SigPlot()\n",
    "plot.overlay_href(\"http://sigplot.lgsinnovations.com/dat/pulse.tmp\")\n",
    "plot.plot()"
   ]
  },
  {
   "cell_type": "code",
   "execution_count": 4,
   "metadata": {},
   "outputs": [
    {
     "data": {
      "application/vnd.jupyter.widget-view+json": {
       "model_id": "72aeb70f8cbb435cbfb55f55779310b1",
       "version_major": 2,
       "version_minor": 0
      },
      "text/plain": [
       "SigPlot()"
      ]
     },
     "metadata": {},
     "output_type": "display_data"
    }
   ],
   "source": [
    "plot= SigPlot(\"http://sigplot.lgsinnovations.com/dat/sin.tmp\")\n",
    "plot.plot()"
   ]
  },
  {
   "cell_type": "code",
   "execution_count": 5,
   "metadata": {},
   "outputs": [
    {
     "data": {
      "application/vnd.jupyter.widget-view+json": {
       "model_id": "3fda6500faf945ef85bb385f694e98e5",
       "version_major": 2,
       "version_minor": 0
      },
      "text/plain": [
       "SigPlot()"
      ]
     },
     "metadata": {},
     "output_type": "display_data"
    }
   ],
   "source": [
    "plot= SigPlot(\"http://sigplot.lgsinnovations.com/dat/sin.tmp\")\n",
    "plot.overlay_href(\"http://sigplot.lgsinnovations.com/dat/pulse.tmp\")\n",
    "plot.plot()"
   ]
  },
  {
   "cell_type": "code",
   "execution_count": 6,
   "metadata": {},
   "outputs": [
    {
     "data": {
      "application/vnd.jupyter.widget-view+json": {
       "model_id": "106e539209454bb2a32ae3270e612a20",
       "version_major": 2,
       "version_minor": 0
      },
      "text/plain": [
       "SigPlot()"
      ]
     },
     "metadata": {},
     "output_type": "display_data"
    }
   ],
   "source": [
    "plot=SigPlot(\"http://sigplot.lgsinnovations.com/dat/penny.prm\")\n",
    "plot.plot()"
   ]
  },
  {
   "cell_type": "code",
   "execution_count": 7,
   "metadata": {},
   "outputs": [
    {
     "data": {
      "application/vnd.jupyter.widget-view+json": {
       "model_id": "3f28656ada2e4521a5886deaec7c5a48",
       "version_major": 2,
       "version_minor": 0
      },
      "text/plain": [
       "SigPlot()"
      ]
     },
     "metadata": {},
     "output_type": "display_data"
    }
   ],
   "source": [
    "plot=SigPlot(\"http://sigplot.lgsinnovations.com/dat/penny.prm\")\n",
    "plot.plot(\"2D\")"
   ]
  },
  {
   "cell_type": "code",
   "execution_count": 8,
   "metadata": {},
   "outputs": [
    {
     "data": {
      "application/vnd.jupyter.widget-view+json": {
       "model_id": "a97893ea01df47758d64afb1813ca4ca",
       "version_major": 2,
       "version_minor": 0
      },
      "text/plain": [
       "SigPlot()"
      ]
     },
     "metadata": {},
     "output_type": "display_data"
    }
   ],
   "source": [
    "plot=SigPlot()\n",
    "plot.overlay_array([[1,2,3],[2,3,4],[1,2,3]])\n",
    "plot.plot(\"2D\")"
   ]
  },
  {
   "cell_type": "code",
   "execution_count": 9,
   "metadata": {},
   "outputs": [
    {
     "data": {
      "application/vnd.jupyter.widget-view+json": {
       "model_id": "2d205204301548bbafd799fbcc881bbd",
       "version_major": 2,
       "version_minor": 0
      },
      "text/plain": [
       "SigPlot()"
      ]
     },
     "metadata": {},
     "output_type": "display_data"
    }
   ],
   "source": [
    "plot=SigPlot()\n",
    "plot.overlay_array([1,2,3,2,3,4,1,2,3])\n",
    "plot.plot(\"2D\", subsize=3)"
   ]
  },
  {
   "cell_type": "code",
   "execution_count": 12,
   "metadata": {},
   "outputs": [
    {
     "data": {
      "application/vnd.jupyter.widget-view+json": {
       "model_id": "929c819ef7b2466082f39efe65fc7c14",
       "version_major": 2,
       "version_minor": 0
      },
      "text/plain": [
       "SigPlot()"
      ]
     },
     "metadata": {},
     "output_type": "display_data"
    }
   ],
   "source": [
    "plot=SigPlot()\n",
    "plot.overlay_array([1,2,3,2,3,4,1,2,3])\n",
    "plot.plot(\"2D\", subsize=5)"
   ]
  },
  {
   "cell_type": "code",
   "execution_count": null,
   "metadata": {},
   "outputs": [],
   "source": []
  }
 ],
 "metadata": {
  "kernelspec": {
   "display_name": "Python 2",
   "language": "python",
   "name": "python2"
  },
  "language_info": {
   "codemirror_mode": {
    "name": "ipython",
    "version": 2
   },
   "file_extension": ".py",
   "mimetype": "text/x-python",
   "name": "python",
   "nbconvert_exporter": "python",
   "pygments_lexer": "ipython2",
   "version": "2.7.5"
  }
 },
 "nbformat": 4,
 "nbformat_minor": 2
}
