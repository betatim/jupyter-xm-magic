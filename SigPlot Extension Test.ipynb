{
 "cells": [
  {
   "cell_type": "markdown",
   "metadata": {},
   "source": [
    "# SigPlot Jupyter Notebook Extension!\n",
    "\n",
    "## Installation\n",
    "![magic](docs/magic.gif)\n",
    "- Install Python 2.6+ or 3.5+\n",
    "- Install `pip` (usually bundled with Python)\n",
    "- Install Jupyter using `pip`\n",
    "- Note: you do not need X-MIDAS installed to use the inline plotting via [SigPlot](https://github.com/lgsinnovations/sigplot).\n",
    "\n",
    "```\n",
    "pip install jupyter\n",
    "```\n",
    "\n",
    "- Install the SigPlot Jupyter Notebook extension\n",
    "\n",
    "```\n",
    "[/path/to/ipython-xm-magic]$ python setup.py install\n",
    "```\n",
    "- If you only want the SigPlot interactive plotting, you can just run\n",
    "\n",
    "$ jupyter notebook\n",
    "\n",
    "In either case, once the notebook has launched, loading the extension is pretty straightforward, just run\n",
    "```\n",
    "%load_ext xm_magic\n",
    "```\n",
    "\n",
    "and voilà!"
   ]
  },
  {
   "cell_type": "code",
   "execution_count": 35,
   "metadata": {},
   "outputs": [
    {
     "name": "stdout",
     "output_type": "stream",
     "text": [
      "The xm_magic extension is already loaded. To reload it, use:\n",
      "  %reload_ext xm_magic\n"
     ]
    }
   ],
   "source": [
    "%load_ext xm_magic"
   ]
  },
  {
   "cell_type": "markdown",
   "metadata": {},
   "source": [
    "To use the extension, you can either use the exposed functions `xplot` and `xraster` or you can run magic commands via `%xm` as if you were running X-MIDAS."
   ]
  },
  {
   "cell_type": "code",
   "execution_count": 38,
   "metadata": {},
   "outputs": [
    {
     "data": {
      "application/vnd.jupyter.widget-view+json": {
       "model_id": "cf8dab975692468382f3f336bdd49aac",
       "version_major": 2,
       "version_minor": 0
      },
      "text/plain": [
       "SigPlot()"
      ]
     },
     "metadata": {},
     "output_type": "display_data"
    }
   ],
   "source": [
    "import numpy as np\n",
    "plot= SigPlot()\n",
    "plot.overlay_array(np.sin(np.arange(0, 20, 0.01)))\n",
    "plot.overlay_array(np.cos(np.arange(0, 20, 0.01)))\n",
    "plot.plot()"
   ]
  },
  {
   "cell_type": "code",
   "execution_count": 43,
   "metadata": {},
   "outputs": [
    {
     "data": {
      "application/vnd.jupyter.widget-view+json": {
       "model_id": "1ef173cb82054c6ba479e91428ec0005",
       "version_major": 2,
       "version_minor": 0
      },
      "text/plain": [
       "SigPlot()"
      ]
     },
     "metadata": {},
     "output_type": "display_data"
    }
   ],
   "source": [
    "plot= SigPlot()\n",
    "plot.overlay_href(\"http://sigplot.lgsinnovations.com/dat/pulse.tmp\")\n",
    "plot.plot()"
   ]
  },
  {
   "cell_type": "code",
   "execution_count": 44,
   "metadata": {},
   "outputs": [
    {
     "data": {
      "application/vnd.jupyter.widget-view+json": {
       "model_id": "308e9852c97344b494f89c0fb83b4515",
       "version_major": 2,
       "version_minor": 0
      },
      "text/plain": [
       "SigPlot()"
      ]
     },
     "metadata": {},
     "output_type": "display_data"
    }
   ],
   "source": [
    "plot= SigPlot(\"http://sigplot.lgsinnovations.com/dat/sin.tmp\")\n",
    "plot.plot()"
   ]
  },
  {
   "cell_type": "code",
   "execution_count": 49,
   "metadata": {},
   "outputs": [
    {
     "data": {
      "application/vnd.jupyter.widget-view+json": {
       "model_id": "93fb8ba26a924f88b62e74a711b1ee30",
       "version_major": 2,
       "version_minor": 0
      },
      "text/plain": [
       "SigPlot()"
      ]
     },
     "metadata": {},
     "output_type": "display_data"
    }
   ],
   "source": [
    "plot= SigPlot(\"http://sigplot.lgsinnovations.com/dat/sin.tmp\")\n",
    "plot.overlay_href(\"http://sigplot.lgsinnovations.com/dat/pulse.tmp\")\n",
    "plot.plot()"
   ]
  },
  {
   "cell_type": "code",
   "execution_count": 53,
   "metadata": {},
   "outputs": [
    {
     "data": {
      "application/vnd.jupyter.widget-view+json": {
       "model_id": "a36b768d36bc434f8d8d365b8c763ac9",
       "version_major": 2,
       "version_minor": 0
      },
      "text/plain": [
       "SigPlot()"
      ]
     },
     "metadata": {},
     "output_type": "display_data"
    }
   ],
   "source": [
    "plot=SigPlot(\"http://sigplot.lgsinnovations.com/dat/sin.tmp\", \"http://sigplot.lgsinnovations.com/dat/pulse.tmp\",\n",
    "    np.arange(0, 4, .001)\n",
    ")\n",
    "plot.plot()"
   ]
  },
  {
   "cell_type": "code",
   "execution_count": 33,
   "metadata": {},
   "outputs": [
    {
     "data": {
      "application/vnd.jupyter.widget-view+json": {
       "model_id": "d34b89049d494d3cbf7a2c2e2c3e14eb",
       "version_major": 2,
       "version_minor": 0
      },
      "text/plain": [
       "SigPlot()"
      ]
     },
     "metadata": {},
     "output_type": "display_data"
    }
   ],
   "source": [
    "plot=SigPlot(\"http://sigplot.lgsinnovations.com/dat/penny.prm\")\n",
    "plot.plot(\"1D\")"
   ]
  },
  {
   "cell_type": "code",
   "execution_count": 54,
   "metadata": {},
   "outputs": [
    {
     "data": {
      "application/vnd.jupyter.widget-view+json": {
       "model_id": "ebfabc4858dd442db1e6e6319ba63528",
       "version_major": 2,
       "version_minor": 0
      },
      "text/plain": [
       "SigPlot()"
      ]
     },
     "metadata": {},
     "output_type": "display_data"
    }
   ],
   "source": [
    "plot=SigPlot(\"http://sigplot.lgsinnovations.com/dat/penny.prm\")\n",
    "plot.plot(\"2D\")\")"
   ]
  },
  {
   "cell_type": "code",
   "execution_count": 64,
   "metadata": {},
   "outputs": [
    {
     "data": {
      "application/vnd.jupyter.widget-view+json": {
       "model_id": "15657652326549539a6a7eedda68516a",
       "version_major": 2,
       "version_minor": 0
      },
      "text/plain": [
       "SigPlot()"
      ]
     },
     "metadata": {},
     "output_type": "display_data"
    }
   ],
   "source": [
    "plot=SigPlot()\n",
    "plot.overlay_array([[1,2,3],[2,3,4],[1,2,3]])\n",
    "plot.plot(\"2D\")"
   ]
  },
  {
   "cell_type": "code",
   "execution_count": 66,
   "metadata": {
    "scrolled": true
   },
   "outputs": [
    {
     "data": {
      "application/vnd.jupyter.widget-view+json": {
       "model_id": "56e79af8d2e74f4aaf2bbcdbdf814214",
       "version_major": 2,
       "version_minor": 0
      },
      "text/plain": [
       "SigPlot()"
      ]
     },
     "metadata": {},
     "output_type": "display_data"
    }
   ],
   "source": [
    "plot=SigPlot()\n",
    "plot.overlay_array([1,2,3,2,3,4,1,2,3])\n",
    "plot.plot(\"2D\", subsize=3)"
   ]
  },
  {
   "cell_type": "code",
   "execution_count": 65,
   "metadata": {},
   "outputs": [
    {
     "data": {
      "application/vnd.jupyter.widget-view+json": {
       "model_id": "aa4b1128b63849ac8a9f53ed76ceeb1e",
       "version_major": 2,
       "version_minor": 0
      },
      "text/plain": [
       "SigPlot()"
      ]
     },
     "metadata": {},
     "output_type": "display_data"
    }
   ],
   "source": [
    "plot=SigPlot()\n",
    "plot.overlay_array([1,2,3,2,3,4,1,2,3])\n",
    "plot.plot(\"2D\", subsize=5plot=SigPlot()\n",
    "plot.overlay_array([1,2,3,2,3,4,1,2,3])\n",
    "plot.plot(\"2D\", subsize=3))"
   ]
  },
  {
   "cell_type": "code",
   "execution_count": null,
   "metadata": {},
   "outputs": [],
   "source": []
  }
 ],
 "metadata": {
  "kernelspec": {
   "display_name": "Python 2",
   "language": "python",
   "name": "python2"
  },
  "language_info": {
   "codemirror_mode": {
    "name": "ipython",
    "version": 2
   },
   "file_extension": ".py",
   "mimetype": "text/x-python",
   "name": "python",
   "nbconvert_exporter": "python",
   "pygments_lexer": "ipython2",
   "version": "2.7.5"
  }
 },
 "nbformat": 4,
 "nbformat_minor": 1
}
