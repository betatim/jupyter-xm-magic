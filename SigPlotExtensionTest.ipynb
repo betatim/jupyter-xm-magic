{
 "cells": [
  {
   "cell_type": "markdown",
   "metadata": {},
   "source": [
    "# SigPlot Jupyter Notebook Extension!\n",
    "\n",
    "## Installation\n",
    "![magic](docs/magic.gif)\n",
    "- Install Python 2.6+ or 3.5+\n",
    "- Install `pip` (usually bundled with Python)\n",
    "- Install Jupyter using `pip`\n",
    "- Note: you do not need X-MIDAS installed to use the inline plotting via [SigPlot](https://github.com/lgsinnovations/sigplot).\n",
    "\n",
    "```\n",
    "pip install jupyter\n",
    "```\n",
    "\n",
    "- Install the SigPlot Jupyter Notebook extension\n",
    "\n",
    "```\n",
    "[/path/to/ipython-xm-magic]$ python setup.py install\n",
    "```\n",
    "- If you only want the SigPlot interactive plotting, you can just run\n",
    "\n",
    "$ jupyter notebook\n",
    "\n",
    "In either case, once the notebook has launched, loading the extension is pretty straightforward, just run\n",
    "```\n",
    "%load_ext xm_magic\n",
    "```\n",
    "\n",
    "and voilà!\n",
    "```\n",
    "## Usage\n",
    "- Sigplot(args*) - creates a sigplot with each arg as input data\n",
    "- overlay_array(data) - adds an array of numbers to the sigplot's input data\n",
    "- overlay_href(path) - adds data from an online source to the sigplot\n",
    "- overlay_file(path) - adds data from a file to the sigplot\n",
    "- plot() - displays an interactive sigplot "
   ]
  },
  {
   "cell_type": "code",
   "execution_count": 1,
   "metadata": {},
   "outputs": [
    {
     "data": {
      "application/javascript": [
       "utils.load_extensions('sigplotjs/widget_sigplot');"
      ],
      "text/plain": [
       "<IPython.core.display.Javascript object>"
      ]
     },
     "metadata": {},
     "output_type": "display_data"
    }
   ],
   "source": [
    "%load_ext xm_magic\n",
    "from IPython.display import Image\n",
    "from IPython.display import Javascript\n",
    "import numpy as np"
   ]
  },
  {
   "cell_type": "markdown",
   "metadata": {},
   "source": [
    "To use the extension, you can either use the exposed functions `xplot` and `xraster` or you can run magic commands via `%xm` as if you were running X-MIDAS."
   ]
  },
  {
   "cell_type": "code",
   "execution_count": 2,
   "metadata": {},
   "outputs": [
    {
     "data": {
      "application/vnd.jupyter.widget-view+json": {
       "model_id": "ba2e944f2c7d413db1c15c91d2453768",
       "version_major": 2,
       "version_minor": 0
      },
      "text/plain": [
       "SigPlot()"
      ]
     },
     "metadata": {},
     "output_type": "display_data"
    }
   ],
   "source": [
    "import numpy as np\n",
    "plot= SigPlot()\n",
    "plot.overlay_array(np.sin(np.arange(0, 20, 0.01)))\n",
    "plot.overlay_array(np.cos(np.arange(0, 20, 0.01)))\n",
    "plot.plot()"
   ]
  },
  {
   "cell_type": "code",
   "execution_count": 10,
   "metadata": {
    "scrolled": false
   },
   "outputs": [
    {
     "data": {
      "application/vnd.jupyter.widget-view+json": {
       "model_id": "871650d7014c4005b05cac6f3ada6e4a",
       "version_major": 2,
       "version_minor": 0
      },
      "text/plain": [
       "SigPlot()"
      ]
     },
     "metadata": {},
     "output_type": "display_data"
    }
   ],
   "source": [
    "plot= SigPlot()\n",
    "plot.overlay_href(\"http://sigplot.lgsinnovations.com/dat/pulse.tmp\")\n",
    "plot.plot()"
   ]
  },
  {
   "cell_type": "code",
   "execution_count": 20,
   "metadata": {
    "scrolled": true
   },
   "outputs": [
    {
     "data": {
      "application/vnd.jupyter.widget-view+json": {
       "model_id": "d3fe1c50c4ee417aa93cd86fe9c0a61f",
       "version_major": 2,
       "version_minor": 0
      },
      "text/plain": [
       "SigPlot()"
      ]
     },
     "metadata": {},
     "output_type": "display_data"
    }
   ],
   "source": [
    "plot= SigPlot(\"http://sigplot.lgsinnovations.com/dat/sin.tmp\")\n",
    "plot.plot()"
   ]
  },
  {
   "cell_type": "code",
   "execution_count": 13,
   "metadata": {},
   "outputs": [
    {
     "data": {
      "application/vnd.jupyter.widget-view+json": {
       "model_id": "e4e8fe153347423eb1db3c25f3d2da4e",
       "version_major": 2,
       "version_minor": 0
      },
      "text/plain": [
       "SigPlot()"
      ]
     },
     "metadata": {},
     "output_type": "display_data"
    }
   ],
   "source": [
    "plot= SigPlot(\"http://sigplot.lgsinnovations.com/dat/sin.tmp\")\n",
    "plot.overlay_href(\"http://sigplot.lgsinnovations.com/dat/pulse.tmp\")\n",
    "plot.plot()"
   ]
  },
  {
   "cell_type": "code",
   "execution_count": 14,
   "metadata": {},
   "outputs": [
    {
     "data": {
      "application/vnd.jupyter.widget-view+json": {
       "model_id": "b9f6b36b29084a30b77bad186a3122fc",
       "version_major": 2,
       "version_minor": 0
      },
      "text/plain": [
       "SigPlot()"
      ]
     },
     "metadata": {},
     "output_type": "display_data"
    }
   ],
   "source": [
    "plot=SigPlot(\"http://sigplot.lgsinnovations.com/dat/sin.tmp\", \"http://sigplot.lgsinnovations.com/dat/pulse.tmp\",\n",
    "    np.arange(0, 4, .001)\n",
    ")\n",
    "plot.plot()"
   ]
  },
  {
   "cell_type": "code",
   "execution_count": 15,
   "metadata": {},
   "outputs": [
    {
     "data": {
      "application/vnd.jupyter.widget-view+json": {
       "model_id": "199a942d614c4dbf906d6055689767e4",
       "version_major": 2,
       "version_minor": 0
      },
      "text/plain": [
       "SigPlot()"
      ]
     },
     "metadata": {},
     "output_type": "display_data"
    }
   ],
   "source": [
    "plot=SigPlot(\"http://sigplot.lgsinnovations.com/dat/penny.prm\")\n",
    "plot.plot()"
   ]
  },
  {
   "cell_type": "code",
   "execution_count": 16,
   "metadata": {},
   "outputs": [
    {
     "data": {
      "application/vnd.jupyter.widget-view+json": {
       "model_id": "ab214a939ef3445abd745b9b0e4c9f8d",
       "version_major": 2,
       "version_minor": 0
      },
      "text/plain": [
       "SigPlot()"
      ]
     },
     "metadata": {},
     "output_type": "display_data"
    }
   ],
   "source": [
    "plot=SigPlot(\"http://sigplot.lgsinnovations.com/dat/penny.prm\")\n",
    "i= Image(\"docs/penny2D.png\")\n",
    "plot.plot(\"2D\")"
   ]
  },
  {
   "cell_type": "code",
   "execution_count": 17,
   "metadata": {},
   "outputs": [
    {
     "data": {
      "application/vnd.jupyter.widget-view+json": {
       "model_id": "9528fabba9f649819b60744722808ac0",
       "version_major": 2,
       "version_minor": 0
      },
      "text/plain": [
       "SigPlot()"
      ]
     },
     "metadata": {},
     "output_type": "display_data"
    }
   ],
   "source": [
    "plot=SigPlot()\n",
    "plot.overlay_array([[1,2,3],[2,3,4],[1,2,3]])\n",
    "plot.plot(\"2D\")"
   ]
  },
  {
   "cell_type": "code",
   "execution_count": 18,
   "metadata": {
    "scrolled": true
   },
   "outputs": [
    {
     "data": {
      "application/vnd.jupyter.widget-view+json": {
       "model_id": "691725ee81c64e0bbd2a1c89990ef6f0",
       "version_major": 2,
       "version_minor": 0
      },
      "text/plain": [
       "SigPlot()"
      ]
     },
     "metadata": {},
     "output_type": "display_data"
    }
   ],
   "source": [
    "plot=SigPlot()\n",
    "plot.overlay_array([1,2,3,2,3,4,1,2,3])\n",
    "plot.plot(\"2D\", subsize=3)"
   ]
  },
  {
   "cell_type": "code",
   "execution_count": 19,
   "metadata": {
    "scrolled": true
   },
   "outputs": [
    {
     "name": "stdout",
     "output_type": "stream",
     "text": [
      "Interactive SigPlot\n"
     ]
    },
    {
     "data": {
      "application/vnd.jupyter.widget-view+json": {
       "model_id": "d16429743b4548abb4744af6032322f0",
       "version_major": 2,
       "version_minor": 0
      },
      "text/plain": [
       "SigPlot()"
      ]
     },
     "metadata": {},
     "output_type": "display_data"
    }
   ],
   "source": [
    "plot=SigPlot()\n",
    "plot.overlay_array([1,2,3,2,3,4,1,2,3])\n",
    "\n",
    "print(\"Interactive SigPlot\")\n",
    "plot.plot(\"2D\", subsize=5)"
   ]
  },
  {
   "cell_type": "code",
   "execution_count": null,
   "metadata": {},
   "outputs": [],
   "source": []
  },
  {
   "cell_type": "code",
   "execution_count": null,
   "metadata": {},
   "outputs": [],
   "source": []
  },
  {
   "cell_type": "code",
   "execution_count": null,
   "metadata": {},
   "outputs": [],
   "source": []
  }
 ],
 "metadata": {
  "kernelspec": {
   "display_name": "Python 2",
   "language": "python",
   "name": "python2"
  },
  "language_info": {
   "codemirror_mode": {
    "name": "ipython",
    "version": 2
   },
   "file_extension": ".py",
   "mimetype": "text/x-python",
   "name": "python",
   "nbconvert_exporter": "python",
   "pygments_lexer": "ipython2",
   "version": "2.7.5"
  },
  "widgets": {
   "application/vnd.jupyter.widget-state+json": {
    "state": {
     "882c4b9f9b4343d6b389220a33a4293a": {
      "model_module": "@jupyter-widgets/base",
      "model_module_version": "1.0.0",
      "model_name": "LayoutModel",
      "state": {}
     },
     "fb557196f4e54db19e86ce8a601c78db": {
      "model_module": "@jupyter-widgets/base",
      "model_module_version": "1.0.0",
      "model_name": "DOMWidgetModel",
      "state": {
       "_model_name": "DOMWidgetModel",
       "_view_module": "sigplot_ext",
       "_view_name": "SigPlotView",
       "array_obj": {
        "data": [
         1,
         2,
         3,
         2,
         3,
         4,
         1,
         2,
         3
        ],
        "layerType": "2D",
        "overrides": {
         "subsize": 3
        }
       },
       "done": true,
       "href_obj": {},
       "imageOutput": "img",
       "layout": "IPY_MODEL_882c4b9f9b4343d6b389220a33a4293a"
      }
     }
    },
    "version_major": 2,
    "version_minor": 0
   }
  }
 },
 "nbformat": 4,
 "nbformat_minor": 1
}
