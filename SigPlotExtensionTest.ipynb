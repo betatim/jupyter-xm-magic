{
 "cells": [
  {
   "cell_type": "markdown",
   "metadata": {},
   "source": [
    "# SigPlot Jupyter Notebook Extension!\n",
    "\n",
    "## Installation\n",
    "![magic](docs/magic.gif)\n",
    "- Install Python 2.6+ or 3.5+\n",
    "- Install `pip` (usually bundled with Python)\n",
    "- Install Jupyter using `pip`\n",
    "- Note: you do not need X-MIDAS installed to use the inline plotting via [SigPlot](https://github.com/lgsinnovations/sigplot).\n",
    "\n",
    "```\n",
    "pip install jupyter\n",
    "```\n",
    "\n",
    "- Install the SigPlot Jupyter Notebook extension\n",
    "\n",
    "```\n",
    "[/path/to/ipython-xm-magic]$ python setup.py install\n",
    "```\n",
    "- If you only want the SigPlot interactive plotting, you can just run\n",
    "\n",
    "$ jupyter notebook\n",
    "\n",
    "In either case, once the notebook has launched, loading the extension is pretty straightforward, just run\n",
    "```\n",
    "%load_ext xm_magic\n",
    "```\n",
    "\n",
    "and voilà!\n",
    "```\n",
    "## Usage\n",
    "- Sigplot(args*) - creates a sigplot with each arg as input data\n",
    "- overlay_array(data) - adds an array of numbers to the sigplot's input data\n",
    "- overlay_href(path) - adds data from an online source to the sigplot\n",
    "- overlay_file(path) - adds data from a file to the sigplot\n",
    "- plot() - displays an interactive sigplot "
   ]
  },
  {
   "cell_type": "code",
   "execution_count": 1,
   "metadata": {},
   "outputs": [
    {
     "data": {
      "application/javascript": [
       "utils.load_extensions('sigplotjs/widget_sigplot');"
      ],
      "text/plain": [
       "<IPython.core.display.Javascript object>"
      ]
     },
     "metadata": {},
     "output_type": "display_data"
    }
   ],
   "source": [
    "%load_ext xm_magic\n",
    "from IPython.display import Image\n",
    "from IPython.display import Javascript\n",
    "import numpy as np"
   ]
  },
  {
   "cell_type": "markdown",
   "metadata": {},
   "source": [
    "To use the extension, you can either use the exposed functions `xplot` and `xraster` or you can run magic commands via `%xm` as if you were running X-MIDAS."
   ]
  },
  {
   "cell_type": "code",
   "execution_count": 2,
   "metadata": {},
   "outputs": [
    {
     "data": {
      "application/vnd.jupyter.widget-view+json": {
       "model_id": "5557c8c632cd4e2f8a165298d5ec218d",
       "version_major": 2,
       "version_minor": 0
      },
      "text/plain": [
       "SigPlot()"
      ]
     },
     "metadata": {},
     "output_type": "display_data"
    }
   ],
   "source": [
    "import numpy as np\n",
    "plot= SigPlot()\n",
    "plot.overlay_array(np.sin(np.arange(0, 20, 0.01)))\n",
    "plot.overlay_array(np.cos(np.arange(0, 20, 0.01)))\n",
    "plot.plot()"
   ]
  },
  {
   "cell_type": "code",
   "execution_count": 3,
   "metadata": {
    "scrolled": false
   },
   "outputs": [
    {
     "data": {
      "application/vnd.jupyter.widget-view+json": {
       "model_id": "11cef8c575c547878f1710986d809977",
       "version_major": 2,
       "version_minor": 0
      },
      "text/plain": [
       "SigPlot()"
      ]
     },
     "metadata": {},
     "output_type": "display_data"
    }
   ],
   "source": [
    "plot= SigPlot()\n",
    "plot.overlay_href(\"http://sigplot.lgsinnovations.com/dat/pulse.tmp\")\n",
    "plot.plot()"
   ]
  },
  {
   "cell_type": "code",
   "execution_count": 4,
   "metadata": {
    "scrolled": true
   },
   "outputs": [
    {
     "data": {
      "application/vnd.jupyter.widget-view+json": {
       "model_id": "1fb0e54079b845abbccd8125920756a2",
       "version_major": 2,
       "version_minor": 0
      },
      "text/plain": [
       "SigPlot()"
      ]
     },
     "metadata": {},
     "output_type": "display_data"
    }
   ],
   "source": [
    "plot= SigPlot(\"http://sigplot.lgsinnovations.com/dat/sin.tmp\")\n",
    "plot.plot()"
   ]
  },
  {
   "cell_type": "code",
   "execution_count": 5,
   "metadata": {},
   "outputs": [
    {
     "data": {
      "application/vnd.jupyter.widget-view+json": {
       "model_id": "7ab2c8a5b5154eb88fca656db5720976",
       "version_major": 2,
       "version_minor": 0
      },
      "text/plain": [
       "SigPlot()"
      ]
     },
     "metadata": {},
     "output_type": "display_data"
    }
   ],
   "source": [
    "plot= SigPlot(\"http://sigplot.lgsinnovations.com/dat/sin.tmp\")\n",
    "plot.overlay_href(\"http://sigplot.lgsinnovations.com/dat/pulse.tmp\")\n",
    "plot.plot()"
   ]
  },
  {
   "cell_type": "code",
   "execution_count": 6,
   "metadata": {},
   "outputs": [
    {
     "data": {
      "application/vnd.jupyter.widget-view+json": {
       "model_id": "cf9c63a64e9146a7b4dbe66792661465",
       "version_major": 2,
       "version_minor": 0
      },
      "text/plain": [
       "SigPlot()"
      ]
     },
     "metadata": {},
     "output_type": "display_data"
    }
   ],
   "source": [
    "plot=SigPlot(\"http://sigplot.lgsinnovations.com/dat/sin.tmp\", \"http://sigplot.lgsinnovations.com/dat/pulse.tmp\",\n",
    "    np.arange(0, 4, .001)\n",
    ")\n",
    "plot.plot()"
   ]
  },
  {
   "cell_type": "code",
   "execution_count": 7,
   "metadata": {},
   "outputs": [
    {
     "data": {
      "application/vnd.jupyter.widget-view+json": {
       "model_id": "23a4a76b0d334c709179b39378de2461",
       "version_major": 2,
       "version_minor": 0
      },
      "text/plain": [
       "SigPlot()"
      ]
     },
     "metadata": {},
     "output_type": "display_data"
    }
   ],
   "source": [
    "plot=SigPlot(\"http://sigplot.lgsinnovations.com/dat/penny.prm\")\n",
    "plot.plot()"
   ]
  },
  {
   "cell_type": "code",
   "execution_count": 8,
   "metadata": {},
   "outputs": [
    {
     "data": {
      "application/vnd.jupyter.widget-view+json": {
       "model_id": "fe7a332bace744eb9312605ca1b1d9e6",
       "version_major": 2,
       "version_minor": 0
      },
      "text/plain": [
       "SigPlot()"
      ]
     },
     "metadata": {},
     "output_type": "display_data"
    }
   ],
   "source": [
    "plot=SigPlot(\"http://sigplot.lgsinnovations.com/dat/penny.prm\")\n",
    "i= Image(\"docs/penny2D.png\")\n",
    "plot.plot(\"2D\")"
   ]
  },
  {
   "cell_type": "code",
   "execution_count": 9,
   "metadata": {},
   "outputs": [
    {
     "data": {
      "application/vnd.jupyter.widget-view+json": {
       "model_id": "1500ed6386674055ad697097014dc01f",
       "version_major": 2,
       "version_minor": 0
      },
      "text/plain": [
       "SigPlot()"
      ]
     },
     "metadata": {},
     "output_type": "display_data"
    }
   ],
   "source": [
    "plot=SigPlot()\n",
    "plot.overlay_array([[1,2,3],[2,3,4],[1,2,3]])\n",
    "plot.plot(\"2D\")"
   ]
  },
  {
   "cell_type": "code",
   "execution_count": 10,
   "metadata": {
    "scrolled": true
   },
   "outputs": [
    {
     "data": {
      "text/plain": [
       "SigPlot()"
      ]
     },
     "metadata": {},
     "output_type": "display_data"
    }
   ],
   "source": [
    "plot=SigPlot()\n",
    "plot.overlay_array([1,2,3,2,3,4,1,2,3])\n",
    "plot.plot(\"2D\", subsize=3)"
   ]
  },
  {
   "cell_type": "code",
   "execution_count": 11,
   "metadata": {
    "scrolled": true
   },
   "outputs": [
    {
     "name": "stdout",
     "output_type": "stream",
     "text": [
      "Interactive SigPlot\n"
     ]
    },
    {
     "data": {
      "text/plain": [
       "SigPlot()"
      ]
     },
     "metadata": {},
     "output_type": "display_data"
    }
   ],
   "source": [
    "plot=SigPlot()\n",
    "plot.overlay_array([1,2,3,2,3,4,1,2,3])\n",
    "\n",
    "print(\"Interactive SigPlot\")\n",
    "plot.plot(\"2D\", subsize=5)"
   ]
  },
  {
   "cell_type": "code",
   "execution_count": null,
   "metadata": {},
   "outputs": [],
   "source": []
  },
  {
   "cell_type": "code",
   "execution_count": null,
   "metadata": {},
   "outputs": [],
   "source": []
  },
  {
   "cell_type": "code",
   "execution_count": null,
   "metadata": {},
   "outputs": [],
   "source": []
  }
 ],
 "metadata": {
  "kernelspec": {
   "display_name": "Python 2",
   "language": "python",
   "name": "python2"
  },
  "language_info": {
   "codemirror_mode": {
    "name": "ipython",
    "version": 2
   },
   "file_extension": ".py",
   "mimetype": "text/x-python",
   "name": "python",
   "nbconvert_exporter": "python",
   "pygments_lexer": "ipython2",
   "version": "2.7.5"
  },
  "widgets": {
   "application/vnd.jupyter.widget-state+json": {
    "state": {
     "882c4b9f9b4343d6b389220a33a4293a": {
      "model_module": "@jupyter-widgets/base",
      "model_module_version": "1.0.0",
      "model_name": "LayoutModel",
      "state": {}
     },
     "fb557196f4e54db19e86ce8a601c78db": {
      "model_module": "@jupyter-widgets/base",
      "model_module_version": "1.0.0",
      "model_name": "DOMWidgetModel",
      "state": {
       "_model_name": "DOMWidgetModel",
       "_view_module": "sigplot_ext",
       "_view_name": "SigPlotView",
       "array_obj": {
        "data": [
         1,
         2,
         3,
         2,
         3,
         4,
         1,
         2,
         3
        ],
        "layerType": "2D",
        "overrides": {
         "subsize": 3
        }
       },
       "done": true,
       "href_obj": {},
       "imageOutput": "img",
       "layout": "IPY_MODEL_882c4b9f9b4343d6b389220a33a4293a"
      }
     }
    },
    "version_major": 2,
    "version_minor": 0
   }
  }
 },
 "nbformat": 4,
 "nbformat_minor": 1
}
